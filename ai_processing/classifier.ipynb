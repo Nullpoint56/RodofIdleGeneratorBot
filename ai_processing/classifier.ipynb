{
 "cells": [
  {
   "metadata": {},
   "cell_type": "markdown",
   "source": "# Classification model lab",
   "id": "1625ea06f6814b19"
  },
  {
   "metadata": {},
   "cell_type": "markdown",
   "source": [
    "### Purpose\n",
    "To develop a model that can classify sentences into quote topics.\n",
    "- Input: Sentence from Discord\n",
    "- Output: A quote topic key ('alcohol', suffering, etc)\n",
    "\n",
    "In the bot, the model will be used to identify what topic the user sentence is related to and detect if we need to respond and if we need to respond, from which quote topic we should search in, greatly improving efficiency and accuracy."
   ],
   "id": "b8bdf2b7281b4e9d"
  },
  {
   "metadata": {},
   "cell_type": "code",
   "outputs": [],
   "execution_count": null,
   "source": "",
   "id": "6b0a72c87cba58b1"
  }
 ],
 "metadata": {
  "kernelspec": {
   "display_name": "Python 3",
   "language": "python",
   "name": "python3"
  },
  "language_info": {
   "codemirror_mode": {
    "name": "ipython",
    "version": 2
   },
   "file_extension": ".py",
   "mimetype": "text/x-python",
   "name": "python",
   "nbconvert_exporter": "python",
   "pygments_lexer": "ipython2",
   "version": "2.7.6"
  }
 },
 "nbformat": 4,
 "nbformat_minor": 5
}
