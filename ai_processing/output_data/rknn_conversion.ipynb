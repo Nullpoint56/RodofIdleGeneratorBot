{
 "cells": [
  {
   "cell_type": "code",
   "id": "initial_id",
   "metadata": {
    "collapsed": true,
    "ExecuteTime": {
     "end_time": "2025-04-12T19:13:35.325250Z",
     "start_time": "2025-04-12T19:13:30.420213Z"
    }
   },
   "source": [
    "from transformers import AutoTokenizer, AutoModel\n",
    "import torch\n",
    "import onnx\n",
    "from pathlib import Path\n",
    "\n",
    "# Load model and tokenizer\n",
    "model_id = \"sentence-transformers/paraphrase-multilingual-MiniLM-L12-v2\"\n",
    "tokenizer = AutoTokenizer.from_pretrained(model_id)\n",
    "model = AutoModel.from_pretrained(model_id)\n",
    "\n",
    "# Example sentence for export shape reference\n",
    "example_text = \"Ez egy példa mondat.\"\n",
    "inputs = tokenizer(example_text, return_tensors=\"pt\", padding=True, truncation=True, max_length=128)\n",
    "\n",
    "# Export path\n",
    "onnx_path = Path(\"../rknn_model/minilm_sentence_embed.onnx\")\n",
    "\n",
    "# Export to ONNX\n",
    "torch.onnx.export(\n",
    "    model,\n",
    "    args=(inputs[\"input_ids\"], inputs[\"attention_mask\"]),\n",
    "    f=onnx_path.as_posix(),\n",
    "    input_names=[\"input_ids\", \"attention_mask\"],\n",
    "    output_names=[\"last_hidden_state\", \"pooler_output\"],\n",
    "    dynamic_axes={\n",
    "        \"input_ids\": {0: \"batch_size\", 1: \"sequence\"},\n",
    "        \"attention_mask\": {0: \"batch_size\", 1: \"sequence\"},\n",
    "        \"last_hidden_state\": {0: \"batch_size\", 1: \"sequence\"},\n",
    "        \"pooler_output\": {0: \"batch_size\"}\n",
    "    },\n",
    "    opset_version=14,\n",
    "    do_constant_folding=True\n",
    ")\n",
    "\n",
    "# Validate ONNX model\n",
    "onnx_model = onnx.load(onnx_path)\n",
    "onnx.checker.check_model(onnx_model)\n",
    "\n",
    "onnx_path\n"
   ],
   "outputs": [
    {
     "data": {
      "text/plain": [
       "WindowsPath('../rknn_model/minilm_sentence_embed.onnx')"
      ]
     },
     "execution_count": 3,
     "metadata": {},
     "output_type": "execute_result"
    }
   ],
   "execution_count": 3
  },
  {
   "metadata": {},
   "cell_type": "code",
   "outputs": [],
   "execution_count": null,
   "source": "",
   "id": "b5cb3546a6baff78"
  }
 ],
 "metadata": {
  "kernelspec": {
   "display_name": "Python 3",
   "language": "python",
   "name": "python3"
  },
  "language_info": {
   "codemirror_mode": {
    "name": "ipython",
    "version": 2
   },
   "file_extension": ".py",
   "mimetype": "text/x-python",
   "name": "python",
   "nbconvert_exporter": "python",
   "pygments_lexer": "ipython2",
   "version": "2.7.6"
  }
 },
 "nbformat": 4,
 "nbformat_minor": 5
}
