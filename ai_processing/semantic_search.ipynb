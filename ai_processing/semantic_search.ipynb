{
 "cells": [
  {
   "metadata": {},
   "cell_type": "markdown",
   "source": "# Semantic Search lab",
   "id": "d47893209cefebe5"
  },
  {
   "metadata": {},
   "cell_type": "markdown",
   "source": [
    "### Purpose\n",
    "To provide a playground for developing and evaluating the semantic search pipeline, later used in the bot.\n",
    "The pipeline will be used in th bot to map a user sentence to a quote that is the closest to it semantically and is above a certain threshold"
   ],
   "id": "d374e40bd6cadb6b"
  },
  {
   "metadata": {
    "ExecuteTime": {
     "end_time": "2025-04-12T19:06:41.875398Z",
     "start_time": "2025-04-12T19:06:41.871335Z"
    }
   },
   "cell_type": "code",
   "source": [
    "import json\n",
    "\n",
    "metadata_path = \"./input_data/quotes.json\"\n",
    "\n",
    "with open(metadata_path, \"r\", encoding=\"utf-8\") as f:\n",
    "    quotes = json.load(f)  # <- CORRECT way to parse JSON"
   ],
   "id": "d6cf0ae103bc7023",
   "outputs": [],
   "execution_count": 2
  },
  {
   "metadata": {
    "ExecuteTime": {
     "end_time": "2025-04-12T19:07:08.295417Z",
     "start_time": "2025-04-12T19:06:49.979814Z"
    }
   },
   "cell_type": "code",
   "source": [
    "from sentence_transformers import SentenceTransformer\n",
    "\n",
    "# Initialize embedding model\n",
    "model = SentenceTransformer(\"sentence-transformers/paraphrase-multilingual-MiniLM-L12-v2\")"
   ],
   "id": "49f31ee65b4ff0ef",
   "outputs": [
    {
     "name": "stderr",
     "output_type": "stream",
     "text": [
      "D:\\python_projects\\RodofIdleGeneratorBot\\.venv\\Lib\\site-packages\\tqdm\\auto.py:21: TqdmWarning: IProgress not found. Please update jupyter and ipywidgets. See https://ipywidgets.readthedocs.io/en/stable/user_install.html\n",
      "  from .autonotebook import tqdm as notebook_tqdm\n",
      "Xet Storage is enabled for this repo, but the 'hf_xet' package is not installed. Falling back to regular HTTP download. For better performance, install the package with: `pip install huggingface_hub[hf_xet]` or `pip install hf_xet`\n",
      "Xet Storage is enabled for this repo, but the 'hf_xet' package is not installed. Falling back to regular HTTP download. For better performance, install the package with: `pip install huggingface_hub[hf_xet]` or `pip install hf_xet`\n"
     ]
    }
   ],
   "execution_count": 3
  },
  {
   "metadata": {
    "ExecuteTime": {
     "end_time": "2025-04-12T19:07:10.762165Z",
     "start_time": "2025-04-12T19:07:10.716164Z"
    }
   },
   "cell_type": "code",
   "source": [
    "# Extract texts and compute embeddings\n",
    "texts = [q[\"text\"] for q in quotes]\n",
    "embeddings = model.encode(texts).astype(\"float32\")"
   ],
   "id": "608c6faf8f525806",
   "outputs": [],
   "execution_count": 4
  },
  {
   "metadata": {
    "ExecuteTime": {
     "end_time": "2025-04-12T19:07:47.610346Z",
     "start_time": "2025-04-12T19:07:47.606468Z"
    }
   },
   "cell_type": "code",
   "source": "print(embeddings)",
   "id": "dca438dbf447bbbb",
   "outputs": [
    {
     "name": "stdout",
     "output_type": "stream",
     "text": [
      "[[ 0.04431454 -0.03983755  0.05236996 ... -0.06895073  0.02922527\n",
      "  -0.01436031]\n",
      " [ 0.01989342  0.02402907 -0.02914888 ...  0.02985937 -0.0524143\n",
      "  -0.02279414]\n",
      " [ 0.03898674 -0.06400789 -0.04287693 ...  0.00786426  0.07462507\n",
      "   0.03771965]\n",
      " [ 0.05423515 -0.02991603  0.09973224 ... -0.0052148  -0.06599645\n",
      "  -0.06471831]\n",
      " [-0.04514432  0.04389963 -0.02860392 ... -0.00523802  0.05161293\n",
      "  -0.00437638]]\n"
     ]
    }
   ],
   "execution_count": 6
  },
  {
   "metadata": {
    "ExecuteTime": {
     "end_time": "2025-04-12T19:07:15.244074Z",
     "start_time": "2025-04-12T19:07:15.241675Z"
    }
   },
   "cell_type": "code",
   "source": [
    "import numpy as np\n",
    "\n",
    "embeddings = embeddings / np.linalg.norm(embeddings, axis=1, keepdims=True)"
   ],
   "id": "e6a5f1c25d3893eb",
   "outputs": [],
   "execution_count": 5
  },
  {
   "metadata": {
    "ExecuteTime": {
     "end_time": "2025-04-12T19:08:08.895019Z",
     "start_time": "2025-04-12T19:08:08.764018Z"
    }
   },
   "cell_type": "code",
   "source": [
    "import faiss\n",
    "\n",
    "# Build FAISS index\n",
    "index = faiss.IndexFlatIP(embeddings.shape[1])\n",
    "index.add(embeddings)\n",
    "\n",
    "# Save index to file\n",
    "index_path = \"./output_data/quotes.index\"\n",
    "faiss.write_index(index, index_path)\n",
    "\n",
    "(metadata_path, index_path)"
   ],
   "id": "5bb10a435f2369e9",
   "outputs": [
    {
     "data": {
      "text/plain": [
       "('./input_data/quotes.json', './output_data/quotes.index')"
      ]
     },
     "execution_count": 7,
     "metadata": {},
     "output_type": "execute_result"
    }
   ],
   "execution_count": 7
  }
 ],
 "metadata": {
  "kernelspec": {
   "display_name": "Python 3",
   "language": "python",
   "name": "python3"
  },
  "language_info": {
   "codemirror_mode": {
    "name": "ipython",
    "version": 2
   },
   "file_extension": ".py",
   "mimetype": "text/x-python",
   "name": "python",
   "nbconvert_exporter": "python",
   "pygments_lexer": "ipython2",
   "version": "2.7.6"
  }
 },
 "nbformat": 4,
 "nbformat_minor": 5
}
